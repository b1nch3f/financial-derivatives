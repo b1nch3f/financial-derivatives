{
 "cells": [
  {
   "cell_type": "markdown",
   "id": "ea253596-91d5-49b8-9e5c-820a4a4fac52",
   "metadata": {},
   "source": [
    "A derivative is a contract whose value depends on the value of underlying assets. e.g., a $\\textbf{stock option}$ is a derivative whose value depends on the $\\textbf{stock}$ price. \n",
    "\n",
    "#### Why derivatives?\n",
    "\n",
    "While trading the assets can be cumbersome but trading derivatives is easy. e.g., buying/selling the stocks of top 500 companies in s&p is cumbersome but buying/selling index funds on s&p 500 is easy, this increases the ease of trading, i.e., $\\textbf{liquidity}$\n",
    "\n",
    "#### Some more examples of derivatives:\n",
    "\n",
    "credit derivatives, electricity derivatives, weather derivatives, insurance derivatives, etc.\n",
    "there are derivatives on interest rate, foreign exchange, equity, etc."
   ]
  },
  {
   "cell_type": "markdown",
   "id": "5c6921b3-41db-4c07-8a62-348824df33d1",
   "metadata": {},
   "source": [
    "### 1.1 EXCHANGE-TRADED MARKETS\n",
    "\n",
    "A derivatives exchange is a market where individuals trade standardized contracts that have been defined by the exchange.\n",
    "\n",
    "Once two traders have agreed on a trade, it is handled by the exchange clearing house.\n",
    "\n",
    "The clearing house takes care of credit risk by requiring each of the two traders to deposit funds (known as $\\textbf{margin}$) with the clearing house to ensure that they will live up to their obligations.\n",
    "\n",
    "#### Electronic Markets\n",
    "\n",
    "Trading is done via computers."
   ]
  },
  {
   "cell_type": "markdown",
   "id": "9b3e5f9c-6903-4201-9052-f559ab9681b3",
   "metadata": {},
   "source": [
    "### 1.2 OVER-THE-COUNTER (OTC) MARKETS\n",
    "\n",
    "Not all derivatives trading is on exchanges.\n",
    "\n",
    "Banks, other large financial institutions, fund managers, and corporations are the main participants in OTC derivatives markets.\n",
    "\n",
    "Once an OTC trade has been agreed, the two parties can either present it to a central counterparty (CCP) or clear the trade bilaterally.\n",
    "\n",
    "A CCP is like an exchange clearing house.\n",
    "\n",
    "Large banks often act as $\\textbf{market makers}$ for the more commonly traded instruments. This means that they are always prepared to quote a $\\textbf{bid price}$ (to buy derivatives) and an $\\textbf{offer price}$ (to sell derivatives)."
   ]
  },
  {
   "cell_type": "markdown",
   "id": "67777fac-a592-4555-be4f-7306e3a1b8a2",
   "metadata": {},
   "source": [
    "![f1.1](f1.1.png)\n"
   ]
  },
  {
   "cell_type": "markdown",
   "id": "92e8b1b3-7ff9-4422-93a4-4da6082b5f6a",
   "metadata": {},
   "source": [
    "### 1.3 FORWARD CONTRACTS\n",
    "\n",
    "It is an agreement to buy or sell an asset at a certain future time for a certain price.\n",
    "\n",
    "A forward contract is traded in the over-the-counter market.\n",
    "\n",
    "One of the parties to a forward contract assumes a $\\textbf{long position}$ and agrees to buy the underlying asset on a certain specified future date for a certain specified price. The other party assumes a $\\textbf{short position}$ and agrees to sell the asset on the same date for the same price."
   ]
  },
  {
   "cell_type": "markdown",
   "id": "c7234c84-d1e8-4fca-b083-f4cc909c14f1",
   "metadata": {},
   "source": [
    "#### Spot and forward quotes for the USD/GBP exchange rate, May 3, 2016.\n",
    "\n",
    "![t1.1](t1.1.png)\n",
    "\n",
    "The above quotes for the exchange rate between the British pound (GBP) and the U.S. dollar (USD) that might be made by a large international bank on May 3, 2016.\n",
    "\n",
    "- The first row indicates that the bank is prepared to buy GBP (also known as sterling) in the spot market (i.e., for virtually immediate delivery) at the rate of $\\textdollar 1.4542$ per GBP and sell sterling in the spot market at $\\textdollar 1.4546$ per GBP.\n",
    "\n",
    "- The second, third, and fourth rows indicate that the bank is prepared to buy sterling in 1, 3, and 6 months at $\\textdollar 1.4544$, $\\textdollar 1.4547$, and $\\textdollar 1.4556$ per GBP, respectively, and to sell sterling in 1, 3, and 6 months at $\\textdollar 1.4548$, $\\textdollar 1.4551$, and $\\textdollar 1.4561$ per GBP, respectively.\n",
    "\n",
    "- Forward contracts can be used to hedge foreign currency risk. Suppose that, on May 3, 2016, the treasurer of a U.S. corporation knows that the corporation will pay $\\textbf{£1}$ million in 6 months (i.e., on November 3, 2016) and wants to hedge against exchange rate moves.\n",
    "\n",
    "- The treasurer can agree to buy $\\textbf{£1}$ million 6 months forward at an exchange rate of 1.4561.\n",
    "\n",
    "- The corporation then has a long forward contract on GBP. It has agreed that on November 3, 2016, it will buy $\\textbf{£1}$ million from the bank for $\\textdollar 1.4561$ million.\n",
    "\n",
    "- The bank has a short forward contract on GBP. It has agreed that on November 3, 2016, it will sell $\\textbf{£1}$ million for $\\textdollar 1.4561$ million.\n",
    "\n",
    "- Both sides have made a binding commitment."
   ]
  },
  {
   "cell_type": "markdown",
   "id": "7e87b096-22a7-4f97-8cb4-315f8627547b",
   "metadata": {},
   "source": [
    "#### Payoffs from Forward Contracts\n",
    "\n",
    "The forward contract obligates the corporation to buy $\\textbf{£1}$ million for $\\textdollar 1,456,100$.\n",
    "\n",
    "If the spot exchange rate rose to, say, 1.5000, at the end of the 6 months, the forward contract would be worth $\\textdollar 43,900 (= \\textdollar 1,500,000 - \\textdollar 1,456,100)$ to the corporation.\n",
    "- It would enable $\\textbf{£1}$ million to be purchased at an exchange rate of 1.4561 rather than 1.5000.\n",
    "\n",
    "If the spot exchange rate fell to 1.4000 at the end of the 6 months, the forward contract would have a negative value to the corporation of $\\textdollar 56,100 (= \\textdollar 1,400,000 - \\textdollar 1,456,100)$\n",
    "- It would lead to the corporation paying $\\textdollar 56,100$ more than the market price for the sterling.\n",
    "\n",
    "In general, the payoff from a long position in a forward contract on one unit of an asset is:\n",
    "\n",
    "\\begin{align}\n",
    "S_T - K\n",
    "\\end{align}\n",
    "\n",
    "where $K$ is the delivery price and $S_T$ is the spot price of the asset at maturity of the contract.\n",
    "\n",
    "Similarly, the payoff from a short position in a forward contract on one unit of an asset is:\n",
    "\n",
    "\\begin{align}\n",
    "K - S_T\n",
    "\\end{align}\n",
    "\n",
    "$\\textbf{It costs nothing to enter into a forward contract, the payoff from the contract is also the trader's total gain or loss from the contract.}$"
   ]
  },
  {
   "cell_type": "markdown",
   "id": "8162adb1-61fd-46f8-96cc-18de0469a876",
   "metadata": {},
   "source": [
    "### 1.4 FUTURES CONTRACTS\n",
    "\n",
    "Like a forward contract, a futures contract is an agreement between two parties to buy or sell an asset at a certain time in the future for a certain price.\n",
    "\n",
    "Unlike forward contracts, futures contracts are normally traded on an exchange, which guarantees that the contract will be honored.\n",
    "\n",
    "A very wide range of commodities and financial assets form the underlying assets in the various contracts.\n",
    "\n",
    "- The commodities include pork bellies, live cattle, sugar, wool, lumber, copper, aluminum, gold, and tin.\n",
    "- The financial assets include stock indices, currencies, and Treasury bonds.\n",
    "\n",
    "Prices are determined by supply and demand, if more traders want to go long than to go short, the price goes up; if the reverse is true, then the price goes down."
   ]
  },
  {
   "cell_type": "markdown",
   "id": "997fbf49-c794-40aa-a366-dfe3ebf90d21",
   "metadata": {},
   "source": [
    "### 1.5 OPTIONS\n",
    "\n",
    "Options are traded both on exchanges and in the over-the-counter market.\n",
    "\n",
    "There are two types of option.\n",
    "- A $\\textbf{call option}$ gives the holder the right to buy the underlying asset by a certain date for a certain price.\n",
    "- A $\\textbf{put option}$ gives the holder the right to sell the underlying asset by a certain date for a certain price.\n",
    "\n",
    "The price in the contract is known as the $\\textbf{exercise price}$ or $\\textbf{strike price}$; the date in the contract is known as the $\\textbf{expiration date}$ or $\\textbf{maturity}$.\n",
    "\n",
    "It should be emphasized that an option gives the holder the right to do something. $\\textbf{The holder does not have to exercise this right}$. This is what distinguishes options from\r",
    "forwards and futures.\n",
    "\n",
    "$\\textbf{There is a cost to acquiring an option.}$\n"
   ]
  },
  {
   "cell_type": "markdown",
   "id": "04eff44a-3bdc-47c9-b7bf-a31681947ced",
   "metadata": {},
   "source": [
    "Prices of call options on Alphabet Inc. (Google), May 3, 2016; stock price: bid $\\textdollar 695.86$, offer $\\textdollar 696.25$ (Source: CBOE).\n",
    "![t1.2](t1.2.png)"
   ]
  },
  {
   "cell_type": "markdown",
   "id": "5e8abe4f-df13-46db-af18-7541af7c2d7d",
   "metadata": {},
   "source": [
    "Prices of put options on Alphabet Inc. (Google), May 3, 2016; stock price: bid $\\textdollar 695.86$, offer $\\textdollar 696.25$ (Source: CBOE).\n",
    "![t1.3](t1.3.png)"
   ]
  },
  {
   "cell_type": "markdown",
   "id": "05fb3e2e-98dc-4b26-941c-3a47cafc00d6",
   "metadata": {},
   "source": [
    "## Buying call option - Limited loss Unlimited profit\n",
    "\n",
    "Suppose a trader instructs a broker to buy one December call option contract on Google with a strike price of $\\textdollar 700$, while contract expires on December 16, 2016.\n",
    "\n",
    "The (offer) price indicated in Table is $\\textdollar 52.50$. This is the price for an option to buy one share.\n",
    "\n",
    "In the United States, an option contract is a contract to buy or sell 100 shares. Therefore, the trader must arrange for $\\textdollar 5,250$ to be remitted to the exchange through the broker.\n",
    "\n",
    "The exchange will then arrange for this amount to be passed on to the party on the other side of the transaction.\n",
    "\n",
    "The trader has obtained at a cost of $\\textdollar 5,250$ the right to buy 100 Google shares for $\\textdollar 700$ each.\n",
    "\n",
    "$\\textbf{If the price of Google does not rise above}$ $\\textdollar 700$ $\\textbf{by December 16, 2016, the option is not exercised and the trader loses}$ $\\textdollar 5,250$\n",
    "\n",
    "$\\textbf{But if Google does well and the option is exercised when the bid price for the stock is}$ $\\textdollar 900$, $\\textbf{the trader is able to buy 100 shares at}$ $\\textdollar 700$ $\\textbf{and immediately sell them for}$ $\\textdollar 900$ $\\textbf{for a profit of}$ $\\textdollar 20,000$, $\\textbf{or}$ $\\textdollar 14,750$ $\\textbf{when the initial cost of the options is taken into account}$.\n",
    "\n",
    "\n",
    "## Selling put option - Unlimited loss Limited profit\n",
    "\n",
    "$\\textbf{An alternative trade would be to sell one September put option contract with a strike price of}$ $\\textdollar 660$ $\\textbf{at the bid price of}$ $\\textdollar 24.20$. $\\textbf{The trader receives 100}$ $\\times$ $\\textbf{24.20}$ = $\\textdollar 2,420$. $\\textbf{If the Google stock price stays above}$ $\\textdollar 660$, $\\textbf{the option is not exercised and the trader makes a}$ $\\textdollar 2,420$ $\\textbf{profit}.$\n",
    "\n",
    "$\\textbf{However, if stock price falls and the option is exercised when the stock price is}$ $\\textdollar 600$, $\\textbf{there is a loss. The trader must buy 100 shares at}$ $\\textdollar 660$ $\\textbf{when they are worth only}$ $\\textdollar 600$. $\\textbf{This leads to a loss of}$ $\\textdollar 6,000$, or $\\textdollar 3,580$ $\\textbf{when the initial amount received for the option contract is taken into account}$."
   ]
  },
  {
   "cell_type": "markdown",
   "id": "79aa68b0-67b7-437f-a243-8893baa23f29",
   "metadata": {},
   "source": [
    "#### Four types of participants in options markets\n",
    "\n",
    "| Perspective       | Type of Option | Risk                                                      | Reward                                                           |\r\n",
    "|-------------------|---------------|------------------------------------------------------------|------------------------------------------------------------------|\r\n",
    "| Call Option Buyer | Buy (Long)    | Limited to the premium paid                                | Unlimited potential profit if the stock price rises              |\r\n",
    "| Put Option Buyer  | Buy (Long)    | Limited to the premium paid                                | Potential profit if the stock price falls below the strike price |\r\n",
    "| Call Option Seller| Sell (Short)  | Unlimited potential losses if the stock price rises        | Limited to the premium received                                  |\r\n",
    "| Put Option Seller | Sell (Short)  | Limited to the difference between strike price and $  0    | Limited to the premium received                                |\r\n",
    "\n"
   ]
  },
  {
   "cell_type": "markdown",
   "id": "aa8740d7-0cdf-43f3-8d8d-e4c59e0b40e3",
   "metadata": {},
   "source": [
    "### 1.6 TYPES OF TRADERS\n",
    "\n",
    "Hedgers - Forward contracts are designed to neutralize risk by fixing the price that the hedger will pay or receive for the underlying asset. Option contracts, by contrast, provide insurance. \n",
    "\n",
    "Speculators - When a speculator uses futures, the potential loss as well as the potential gain is very large. When options are used, no matter how bad things get, the speculator’s loss is limited to the amount paid for the options.\n",
    "\r",
    "Arbitrageurs - Arbitrageurs take offsetting positions in two or more \n",
    "instruments to lock in a profit.The very existence of arbitrageurs means that in practice only very small arbitrage opportunities are observed in the prices that are quoted in most financial markets. So, we will assume that no arbitrage opportunities exist. "
   ]
  }
 ],
 "metadata": {
  "kernelspec": {
   "display_name": "Python 3 (ipykernel)",
   "language": "python",
   "name": "python3"
  },
  "language_info": {
   "codemirror_mode": {
    "name": "ipython",
    "version": 3
   },
   "file_extension": ".py",
   "mimetype": "text/x-python",
   "name": "python",
   "nbconvert_exporter": "python",
   "pygments_lexer": "ipython3",
   "version": "3.10.11"
  }
 },
 "nbformat": 4,
 "nbformat_minor": 5
}
